{
 "cells": [
  {
   "cell_type": "markdown",
   "metadata": {},
   "source": [
    "## Project no. 2 for Deep Learning Methods\n",
    "\n",
    "Based on: https://github.com/rachhek/speech_recognition_using_lstm/blob/master/speech_recognition_using_lstm_experiment.ipynb\n"
   ]
  },
  {
   "cell_type": "code",
   "execution_count": null,
   "metadata": {},
   "outputs": [],
   "source": [
    "! pip install python_speech_features"
   ]
  },
  {
   "cell_type": "code",
   "execution_count": null,
   "metadata": {},
   "outputs": [],
   "source": [
    "import os\n",
    "import keras\n",
    "import tensorflow as tf\n",
    "import scipy.io.wavfile as wav\n",
    "import numpy as np\n",
    "import csv\n",
    "import seaborn as sns\n",
    "import matplotlib.pyplot as plt\n",
    "import time\n",
    "import librosa\n",
    "import soundfile as sf\n",
    "import pickle \n",
    "from keras import ops\n",
    "from keras.layers import LSTM, Dense, Dropout, Flatten, Input\n",
    "from python_speech_features import mfcc, logfbank\n",
    "from keras.models import Sequential\n",
    "from keras.optimizers import Adam\n",
    "from official.nlp.modeling.models import TransformerEncoder, TransformerDecoder\n",
    "from tensorflow.keras.utils import pad_sequences\n",
    "from sklearn.preprocessing import LabelEncoder, normalize, MinMaxScaler\n",
    "from matplotlib import pyplot\n",
    "from keras.callbacks import EarlyStopping\n",
    "from sklearn.metrics import confusion_matrix, accuracy_score, precision_score, recall_score, f1_score, ConfusionMatrixDisplay\n",
    "\n",
    "metrics=['categorical_accuracy','AUC','Precision','Recall']\n",
    "metrics2 = ['categorical_accuracy','precision','recall']\n",
    "train_path = \"./train/audio/\" \n",
    "val_text = \"./train/validation_list.txt\"\n",
    "test_text = \"./train/testing_list.txt\"\n",
    "root = \"./train/\"\n",
    "preprocessed = \"./preprocessed\""
   ]
  },
  {
   "cell_type": "code",
   "execution_count": null,
   "metadata": {},
   "outputs": [],
   "source": [
    "def show_confusion_matrix(model, test_ds, num_classes, class_names):\n",
    "    true_labels = np.concatenate([y for x, y in test_ds], axis=0)\n",
    "    tf_labels = tf.argmax(true_labels, axis=1).numpy()\n",
    "\n",
    "    predictions = model.predict(test_ds)\n",
    "    predicted_classes = np.argmax(predictions, axis=1)\n",
    "\n",
    "    conf_matrix = tf.math.confusion_matrix(tf_labels, predicted_classes, num_classes=num_classes)\n",
    "\n",
    "    disp = ConfusionMatrixDisplay(confusion_matrix=conf_matrix.numpy(), display_labels=class_names)\n",
    "    fig, ax = plt.subplots(figsize=(11, 9))  # Ustaw rozmiar wykresu na 10x8\n",
    "\n",
    "    # Wyświetl macierz pomyłek z określonym rozmiarem\n",
    "    disp.plot(ax=ax)  # Użyj parametru ax, aby użyć określonej osi\n",
    "    plt.show()\n",
    "    return"
   ]
  },
  {
   "cell_type": "code",
   "execution_count": null,
   "metadata": {},
   "outputs": [],
   "source": [
    "def show_training_validation_loss_and_metrics(model,metrics):\n",
    "    f,ax=plt.subplots(2,1,figsize=(20,20)) \n",
    "\n",
    "    #Assigning the first subplot to graph training loss and validation loss\n",
    "    ax[0].plot(model.history.history['loss'],color='b',label='Training Loss')\n",
    "    ax[0].plot(model.history.history['val_loss'],color='r',label='Validation Loss')\n",
    "\n",
    "    #Plotting the training accuracy and validation accuracy\n",
    "    for metric in metrics:\n",
    "        ax[1].plot(model.history.history[metric],label='Training '+metric)\n",
    "        ax[1].plot(model.history.history['val_'+metric],label='Validation '+metric)\n",
    "    \n",
    "    plt.legend() "
   ]
  },
  {
   "cell_type": "markdown",
   "metadata": {},
   "source": [
    "# Preprocessing with spectogram (can be run only once)"
   ]
  },
  {
   "cell_type": "code",
   "execution_count": null,
   "metadata": {},
   "outputs": [],
   "source": [
    "def convert_background_noise(root_path='./train', input_folder='_background_noise_', output_folder='silence'):\n",
    "    audio_path = os.path.join(root_path, 'audio')\n",
    "    input_path = os.path.join(audio_path, input_folder)\n",
    "    output_path = os.path.join(audio_path, output_folder)\n",
    "    \n",
    "    sample_rate = 16000\n",
    "    sample_length = 1\n",
    "\n",
    "    audio_files = [d for d in os.listdir(input_path)\n",
    "                   if os.path.isfile(os.path.join(input_path, d)) and d.endswith('.wav')]\n",
    "    samples = []\n",
    "\n",
    "    for f in audio_files:\n",
    "        path = os.path.join(input_path, f)\n",
    "        s, _ = librosa.load(path, sr=sample_rate)\n",
    "        samples.append(s)\n",
    "\n",
    "    samples = np.hstack(samples)\n",
    "    c = int(sample_rate * sample_length)\n",
    "    r = len(samples) // c\n",
    "    names = [f'recording_{i}.wav' for i in range(r-1)]\n",
    "\n",
    "    if not os.path.exists(output_path):\n",
    "        os.makedirs(output_path)\n",
    "\n",
    "    for i in range(r - 1):\n",
    "        y = samples[c*i:c*(i+1)]\n",
    "        sf.write(os.path.join(output_path, names[i]), y, sample_rate)\n",
    "\n",
    "    val_choice = np.random.choice(names, int(0.1*len(names)), replace=False).tolist()\n",
    "    with open(os.path.join(root_path, 'validation_list.txt'), 'a') as f:\n",
    "        for name in val_choice:\n",
    "            p = os.path.join(output_folder, name)\n",
    "            p = p.replace('./', '')\n",
    "            f.write(p)\n",
    "            f.write('\\n')\n",
    "\n",
    "    test_choice = np.random.choice([n for n in names if n not in val_choice], int(0.1*len(names)), replace=False).tolist()\n",
    "    with open(os.path.join(root_path, 'testing_list.txt'), 'a') as f:\n",
    "        for name in test_choice:\n",
    "            p = os.path.join(output_folder, name)\n",
    "            p = p.replace('./', '')\n",
    "            f.write(p)\n",
    "            f.write('\\n')\n"
   ]
  },
  {
   "cell_type": "code",
   "execution_count": null,
   "metadata": {},
   "outputs": [],
   "source": [
    "convert_background_noise(root_path=root, input_folder='_background_noise_', output_folder='silence')"
   ]
  },
  {
   "cell_type": "code",
   "execution_count": null,
   "metadata": {},
   "outputs": [],
   "source": [
    "def load_dataset(root_path_files, files_names_list_name, label_encoder=None):\n",
    "    #Calculating x_test and y_test        \n",
    "    test_labels = []\n",
    "    test_data = []\n",
    "\n",
    "    #test_labels.txt is a txt file with all labels for the speech samples that is required for the evaluation. We loop through it to calculate the MFCC value for each speech sample and then normalize it\n",
    "    with open(os.path.join(root_path_files, files_names_list_name), newline='') as tsvfile:\n",
    "        reader = csv.DictReader(tsvfile)\n",
    "        reader = csv.reader(tsvfile, delimiter=' ')\n",
    "        for row in reader:\n",
    "            wav_file = os.path.join(root_path_files, \"audio/\", row[0])\n",
    "\n",
    "            row.append(row[0].split(\"/\")[0])\n",
    "            (rate,sig) = wav.read(wav_file)\n",
    "\n",
    "            # pad to 1s of length using pad_sequences\n",
    "            sig = pad_sequences([sig], maxlen=16000, dtype='float', padding='post', truncating='post', value=0.0)\n",
    "\n",
    "            #Getting the MFCC value from the .wav files.\n",
    "            mfcc_feat = mfcc(sig,rate)\n",
    "            \n",
    "            scaler = MinMaxScaler(feature_range=(0,1))\n",
    "            scaler = scaler.fit(mfcc_feat)\n",
    "\n",
    "            #Normalizing the MFCC values.\n",
    "            normalized = scaler.transform(mfcc_feat)\n",
    "            test_data.append(normalized)\n",
    "            test_labels.append(str(row[1]))\n",
    "        \n",
    "        if label_encoder is None:\n",
    "            label_encoder_test = LabelEncoder().fit(test_labels)\n",
    "        else:\n",
    "            label_encoder_test = label_encoder\n",
    "        vec_test = label_encoder_test.transform(test_labels)\n",
    "\n",
    "        #One hot encoding the labels\n",
    "        one_hot_labels_test = keras.utils.to_categorical(vec_test, num_classes=len(label_encoder_test.classes_))\n",
    "        Y_test = one_hot_labels_test\n",
    "        X_test = np.array(test_data,dtype=np.float32)\n",
    "        return X_test, Y_test, label_encoder_test"
   ]
  },
  {
   "cell_type": "code",
   "execution_count": null,
   "metadata": {},
   "outputs": [],
   "source": [
    "def generate_train_txt(root_path_files, files_names_list_name):\n",
    "    omit = []\n",
    "    train = []\n",
    "    for f in files_names_list_name:\n",
    "        with open(os.path.join(root_path_files, f)) as fileobj:\n",
    "            omit += [line.strip() for line in fileobj]\n",
    "    for target in os.listdir(os.path.join(root_path_files, 'audio')):\n",
    "        if not target.startswith('_'):\n",
    "            for file in os.listdir(os.path.join(root_path_files, 'audio', target)):\n",
    "                p = os.path.join(target, file)\n",
    "                p = p.replace(\"\\\\\",\"/\")\n",
    "                if p not in omit:\n",
    "                    train.append(p)\n",
    "    with open(os.path.join(root_path_files, 'training_list.txt'), 'wb') as file:\n",
    "        for t in train:\n",
    "            file.write(t.encode())\n",
    "            file.write('\\n'.encode())"
   ]
  },
  {
   "cell_type": "code",
   "execution_count": null,
   "metadata": {},
   "outputs": [],
   "source": [
    "root_path_files = root\n",
    "root_saved_files = preprocessed\n",
    "generate_train_txt(root_path_files, ['validation_list.txt', 'testing_list.txt'])\n",
    "classes = os.listdir(root_path_files+\"/audio\")\n",
    "print(classes)"
   ]
  },
  {
   "cell_type": "code",
   "execution_count": null,
   "metadata": {},
   "outputs": [],
   "source": [
    "root_path_files = root\n",
    "root_saved_files = preprocessed\n",
    "\n",
    "generate_train_txt(root_path_files, ['validation_list.txt', 'testing_list.txt'])\n",
    "\n",
    "train_files_names_list_name = 'training_list.txt'\n",
    "X_train, Y_train, label_encoder = load_dataset(root_path_files=root_path_files, files_names_list_name=train_files_names_list_name)\n",
    "np.save(os.path.join(root_saved_files, 'X_train'), X_train)\n",
    "np.save(os.path.join(root_saved_files, 'Y_train'), Y_train)\n",
    "\n",
    "valid_files_names_list_name = 'validation_list.txt'\n",
    "X_valid, Y_valid, _ = load_dataset(root_path_files=root_path_files, files_names_list_name=valid_files_names_list_name, \n",
    "                                   label_encoder=label_encoder)\n",
    "np.save(os.path.join(root_saved_files, 'X_valid'), X_valid)\n",
    "np.save(os.path.join(root_saved_files, 'Y_valid'), Y_valid)\n",
    "\n",
    "test_files_names_list_name = 'testing_list.txt'\n",
    "X_test, Y_test, _ = load_dataset(root_path_files=root_path_files, files_names_list_name=test_files_names_list_name, \n",
    "                                 label_encoder=label_encoder)\n",
    "np.save(os.path.join(root_saved_files, 'X_test'), X_test)\n",
    "np.save(os.path.join(root_saved_files, 'Y_test'), Y_test)"
   ]
  },
  {
   "cell_type": "code",
   "execution_count": null,
   "metadata": {},
   "outputs": [],
   "source": [
    "with open('encoder', 'wb') as f:\n",
    "    pickle.dump(label_encoder, f)"
   ]
  },
  {
   "cell_type": "code",
   "execution_count": null,
   "metadata": {},
   "outputs": [],
   "source": [
    "print(label_encoder.classes_)"
   ]
  },
  {
   "cell_type": "markdown",
   "metadata": {},
   "source": [
    "# Loading data"
   ]
  },
  {
   "cell_type": "code",
   "execution_count": null,
   "metadata": {},
   "outputs": [],
   "source": [
    "# load the test data and labels\n",
    "root_saved_files = preprocessed\n",
    "\n",
    "X_train = np.load(os.path.join(root_saved_files,'X_train.npy'))\n",
    "Y_train = np.load(os.path.join(root_saved_files, 'Y_train.npy'))\n",
    "\n",
    "X_test = np.load(os.path.join(root_saved_files, 'X_test.npy'))\n",
    "Y_test = np.load(os.path.join(root_saved_files, 'Y_test.npy'))\n",
    "\n",
    "X_valid = np.load(os.path.join(root_saved_files, 'X_valid.npy'))\n",
    "Y_valid = np.load(os.path.join(root_saved_files, 'Y_valid.npy'))"
   ]
  },
  {
   "cell_type": "code",
   "execution_count": null,
   "metadata": {},
   "outputs": [],
   "source": [
    "with open('encoder', 'rb') as f:\n",
    "    encoder = pickle.load(f)\n",
    "    CLASSES = encoder.classes_"
   ]
  },
  {
   "cell_type": "code",
   "execution_count": null,
   "metadata": {},
   "outputs": [],
   "source": [
    "print(CLASSES)"
   ]
  },
  {
   "cell_type": "markdown",
   "metadata": {},
   "source": [
    "# Experiments help functions"
   ]
  },
  {
   "cell_type": "code",
   "execution_count": null,
   "metadata": {},
   "outputs": [],
   "source": [
    "n_classes = len(CLASSES)"
   ]
  },
  {
   "cell_type": "code",
   "execution_count": null,
   "metadata": {},
   "outputs": [],
   "source": [
    "def update_seed(new_random_seed):\n",
    "    np.random.seed(new_random_seed)\n",
    "    tf.keras.utils.set_random_seed(new_random_seed)"
   ]
  },
  {
   "cell_type": "code",
   "execution_count": null,
   "metadata": {},
   "outputs": [],
   "source": [
    "def train_model(model, train_data, val_data, test_data, lr, epochs, batch, path='checkpoint'):\n",
    "    callbacks = [\n",
    "        EarlyStopping(monitor='val_loss', min_delta=0.01, patience=3, mode = 'min')\n",
    "    ]\n",
    "    m = model()\n",
    "    m.compile(optimizer=Adam(amsgrad=True, learning_rate=lr),loss='categorical_crossentropy',metrics=metrics)\n",
    "    history = m.fit(train_data[0], train_data[1],\n",
    "                    epochs=epochs,\n",
    "                    callbacks=callbacks,\n",
    "                    batch_size=batch,\n",
    "                    validation_data=val_data,\n",
    "                    verbose=1,\n",
    "                    shuffle=True)\n",
    "\n",
    "    datetime = time.strftime(\"%Y%m%d-%H%M%S\")\n",
    "    m.save(os.path.join(path, 'model_' + datetime + '.keras'))\n",
    "\n",
    "    show_training_validation_loss_and_metrics(m, metrics2)\n",
    "\n",
    "    y_prediction = m.predict(test_data[0])\n",
    "    y_prediction = np.argmax(y_prediction, axis = 1)\n",
    "    y_test_single_column=np.argmax(test_data[1], axis=1)\n",
    "    result = confusion_matrix(y_test_single_column, y_prediction , normalize='pred')\n",
    "    plt.figure(figsize=(20,20))\n",
    "    labels = CLASSES\n",
    "    sns.heatmap(result, annot=True, fmt='.2f', xticklabels=labels, yticklabels=labels)\n",
    "    plt.ylabel('True label')\n",
    "    plt.xlabel('Predicted label')\n",
    "    plt.title('Confusion matrix on test data')\n",
    "    plt.show()\n",
    "    \n",
    "    result = confusion_matrix(y_test_single_column, y_prediction)\n",
    "    plt.figure(figsize=(20,20))\n",
    "    labels = CLASSES\n",
    "    sns.heatmap(result, annot=True, fmt='.2f', xticklabels=labels, yticklabels=labels)\n",
    "    plt.ylabel('True label')\n",
    "    plt.xlabel('Predicted label')\n",
    "    plt.title('Confusion matrix on test data')\n",
    "    plt.show()\n",
    "    \n",
    "    acc_train = accuracy_score(np.argmax(train_data[1], axis=1), np.argmax(m.predict(train_data[0]), axis = 1))\n",
    "    print(f\"Accuracy score on train dataset: {acc_train}\")\n",
    "    acc_val = accuracy_score(np.argmax(val_data[1], axis=1), np.argmax(m.predict(val_data[0]), axis = 1))\n",
    "    print(f\"Accuracy score on validation dataset: {acc_val}\")\n",
    "    acc_test = accuracy_score(y_test_single_column, y_prediction)\n",
    "    print(f\"Accuracy score on test dataset: {acc_test}\")\n",
    "\n",
    "    return [acc_train, acc_val, acc_test]"
   ]
  },
  {
   "cell_type": "code",
   "execution_count": null,
   "metadata": {},
   "outputs": [],
   "source": [
    "def repeat_train(model, train_data, val_data, test_data, lr, epochs, batch, seeds, path='checkpoint'):\n",
    "    accuracy = []\n",
    "    for seed in seeds:\n",
    "        print(f\"Training with seed {seed}\")\n",
    "        p = os.path.join(path, str(seed))\n",
    "        if not os.path.exists(path):\n",
    "            os.mkdir(path)\n",
    "        if not os.path.exists(p):\n",
    "            os.mkdir(p)\n",
    "        update_seed(seed)\n",
    "        acc = train_model(model, train_data, val_data, test_data, lr, epochs, batch, path=p)\n",
    "        accuracy.append(acc)\n",
    "    with open(os.path.join(path, 'accuracy'), 'wb') as f:\n",
    "        pickle.dump(accuracy, f)"
   ]
  },
  {
   "cell_type": "markdown",
   "metadata": {},
   "source": [
    "## Experiments on models"
   ]
  },
  {
   "cell_type": "code",
   "execution_count": null,
   "metadata": {},
   "outputs": [],
   "source": [
    "def modelLSTM():\n",
    "    model = Sequential()\n",
    "    model.add(LSTM(200,input_shape=(99,13),return_sequences=False))\n",
    "    model.add(Dropout(0.2))\n",
    "    model.add(Dense(Y_test.shape[1], activation='softmax'))\n",
    "    return model"
   ]
  },
  {
   "cell_type": "code",
   "execution_count": null,
   "metadata": {},
   "outputs": [],
   "source": [
    "def modelTransformer():\n",
    "    inputs = Input(shape=(99,13,))\n",
    "    x_encoded = TransformerEncoder(num_attention_heads=13, num_layers=2, intermediate_size=128, dropout_rate=0.2, norm_first=True)(inputs)\n",
    "    x_decoded = TransformerDecoder(num_attention_heads=13, num_layers=2, intermediate_size=128, dropout_rate=0.2, norm_first=True)(inputs, x_encoded)\n",
    "    flatten = Flatten()(x_decoded)\n",
    "    dropout = Dropout(0.2)(flatten)\n",
    "    outputs = Dense(Y_test.shape[1], activation='softmax')(dropout)\n",
    "    model = tf.keras.Model(inputs, outputs)\n",
    "    return model"
   ]
  },
  {
   "cell_type": "code",
   "execution_count": null,
   "metadata": {},
   "outputs": [],
   "source": [
    "repeat_train(modelTransformer, (X_train, Y_train), (X_valid, Y_valid), (X_test, Y_test), lr=0.001, epochs=10, batch=64,\n",
    "             seeds=[1337], path='checkpoint_transformer')"
   ]
  },
  {
   "cell_type": "code",
   "execution_count": null,
   "metadata": {},
   "outputs": [],
   "source": [
    "repeat_train(modelLSTM, (X_train, Y_train), (X_valid, Y_valid), (X_test, Y_test), lr=0.001, epochs=10, batch=64,\n",
    "             seeds=[1337], path='checkpoint_lstm')"
   ]
  },
  {
   "cell_type": "markdown",
   "metadata": {},
   "source": [
    "## Committee Transformer"
   ]
  },
  {
   "cell_type": "code",
   "execution_count": null,
   "metadata": {},
   "outputs": [],
   "source": [
    "tf.random.set_seed(1337)"
   ]
  },
  {
   "cell_type": "code",
   "execution_count": null,
   "metadata": {},
   "outputs": [],
   "source": [
    "ind = np.where(CLASSES=='silence')[0]\n",
    "\n",
    "categorical_labels = np.argmax(Y_train, axis=1)\n",
    "Y_train_binary = np.where(categorical_labels == ind, 1, 0)\n",
    "\n",
    "categorical_valid = np.argmax(Y_valid, axis=1)\n",
    "Y_valid_binary = np.where(categorical_valid == ind, 1, 0)"
   ]
  },
  {
   "cell_type": "code",
   "execution_count": null,
   "metadata": {},
   "outputs": [],
   "source": [
    "def modelTransformerBinary():\n",
    "    inputs = Input(shape=(99,13,))\n",
    "    x_encoded = TransformerEncoder(num_attention_heads=13, num_layers=2, intermediate_size=128, dropout_rate=0.2, norm_first=True)(inputs)\n",
    "    x_decoded = TransformerDecoder(num_attention_heads=13, num_layers=2, intermediate_size=128, dropout_rate=0.2, norm_first=True)(inputs, x_encoded)\n",
    "    flatten = Flatten()(x_decoded)\n",
    "    dropout = Dropout(0.2)(flatten)\n",
    "    outputs = Dense(1, activation='softmax')(dropout)\n",
    "    model = tf.keras.Model(inputs, outputs)\n",
    "    return model"
   ]
  },
  {
   "cell_type": "code",
   "execution_count": null,
   "metadata": {},
   "outputs": [],
   "source": [
    "model_silence = modelTransformerBinary()\n",
    "model_silence.compile(loss='binary_crossentropy', metrics=metrics, optimizer='adam')"
   ]
  },
  {
   "cell_type": "code",
   "execution_count": null,
   "metadata": {},
   "outputs": [],
   "source": [
    "history = model_silence.fit(x=X_train, y=Y_train_binary, batch_size=128, validation_data=(X_valid, Y_valid_binary), epochs=3)"
   ]
  },
  {
   "cell_type": "code",
   "execution_count": null,
   "metadata": {},
   "outputs": [],
   "source": [
    "model_normal = modelTransformer()\n",
    "model_normal.compile(loss='categorical_crossentropy', metrics=metrics, optimizer='adam')\n",
    "history = model_normal.fit(x=X_train, y=Y_train, batch_size=128, validation_data=(X_valid, Y_valid), epochs=3)"
   ]
  },
  {
   "cell_type": "code",
   "execution_count": null,
   "metadata": {},
   "outputs": [],
   "source": [
    "silence_preds = model_silence.predict(X_test)\n",
    "all_preds = model_normal.predict(X_test)"
   ]
  },
  {
   "cell_type": "code",
   "execution_count": null,
   "metadata": {},
   "outputs": [],
   "source": [
    "combined_preds = np.zeros_like(all_preds)\n",
    "\n",
    "for i, pred in enumerate(silence_preds):\n",
    "    if pred == 1:\n",
    "        combined_preds[i] = 0\n",
    "        combined_preds[i, ind] = 1\n",
    "    else:\n",
    "        combined_preds[i] = all_preds[i]"
   ]
  },
  {
   "cell_type": "code",
   "execution_count": null,
   "metadata": {},
   "outputs": [],
   "source": [
    "accuracy = accuracy_score(Y_test, combined_preds)\n",
    "precision = precision_score(Y_test, combined_preds, average='weighted')\n",
    "recall = recall_score(Y_test, combined_preds, average='weighted')\n",
    "f1 = f1_score(Y_test, combined_preds, average='weighted')\n",
    "\n",
    "print(\"Accuracy:\", accuracy)\n",
    "print(\"Precision:\", precision)\n",
    "print(\"Recall:\", recall)\n",
    "print(\"F1 Score:\", f1)"
   ]
  },
  {
   "cell_type": "code",
   "execution_count": null,
   "metadata": {},
   "outputs": [],
   "source": [
    "tf_labels = tf.argmax(Y_test, axis=1).numpy()\n",
    "predicted_classes = np.argmax(combined_preds, axis=1)\n",
    "result = confusion_matrix(tf_labels, predicted_classes , normalize='pred')\n",
    "plt.figure(figsize=(20,20))\n",
    "labels = CLASSES\n",
    "sns.heatmap(result, annot=True, fmt='.2f', xticklabels=labels, yticklabels=labels)\n",
    "plt.ylabel('True label')\n",
    "plt.xlabel('Predicted label')\n",
    "plt.title('Confusion matrix on test data')\n",
    "plt.show()"
   ]
  },
  {
   "cell_type": "markdown",
   "metadata": {},
   "source": [
    "## Committee LSTM"
   ]
  },
  {
   "cell_type": "code",
   "execution_count": null,
   "metadata": {},
   "outputs": [],
   "source": [
    "def modelLSTMBinary():\n",
    "    model = Sequential()\n",
    "    model.add(LSTM(200,input_shape=(99,13),return_sequences=False))\n",
    "    model.add(Dropout(0.2))\n",
    "    model.add(Dense(1, activation='softmax'))\n",
    "    return model"
   ]
  },
  {
   "cell_type": "code",
   "execution_count": null,
   "metadata": {},
   "outputs": [],
   "source": [
    "model_silence = modelLSTMBinary()\n",
    "model_silence.compile(loss='binary_crossentropy', metrics=metrics, optimizer='adam')"
   ]
  },
  {
   "cell_type": "code",
   "execution_count": null,
   "metadata": {},
   "outputs": [],
   "source": [
    "history = model_silence.fit(x=X_train, y=Y_train_binary, batch_size=128, validation_data=(X_valid, Y_valid_binary), epochs=3)"
   ]
  },
  {
   "cell_type": "code",
   "execution_count": null,
   "metadata": {},
   "outputs": [],
   "source": [
    "model_normal = modelLSTM()\n",
    "model_normal.compile(loss='categorical_crossentropy', metrics=metrics, optimizer='adam')\n",
    "history = model_normal.fit(x=X_train, y=Y_train, batch_size=128, validation_data=(X_valid, Y_valid), epochs=3)"
   ]
  },
  {
   "cell_type": "code",
   "execution_count": null,
   "metadata": {},
   "outputs": [],
   "source": [
    "silence_preds = model_silence.predict(X_test)\n",
    "all_preds = model_normal.predict(X_test)"
   ]
  },
  {
   "cell_type": "code",
   "execution_count": null,
   "metadata": {},
   "outputs": [],
   "source": [
    "combined_preds = np.zeros_like(all_preds)\n",
    "\n",
    "for i, pred in enumerate(silence_preds):\n",
    "    if pred == 1:\n",
    "        combined_preds[i] = 0\n",
    "        combined_preds[i, ind] = 1\n",
    "    else:\n",
    "        combined_preds[i] = all_preds[i]"
   ]
  },
  {
   "cell_type": "code",
   "execution_count": null,
   "metadata": {},
   "outputs": [],
   "source": [
    "accuracy = accuracy_score(Y_test, combined_preds)\n",
    "precision = precision_score(Y_test, combined_preds, average='weighted')\n",
    "recall = recall_score(Y_test, combined_preds, average='weighted')\n",
    "f1 = f1_score(Y_test, combined_preds, average='weighted')\n",
    "\n",
    "print(\"Accuracy:\", accuracy)\n",
    "print(\"Precision:\", precision)\n",
    "print(\"Recall:\", recall)\n",
    "print(\"F1 Score:\", f1)"
   ]
  },
  {
   "cell_type": "code",
   "execution_count": null,
   "metadata": {},
   "outputs": [],
   "source": [
    "tf_labels = tf.argmax(Y_test, axis=1).numpy()\n",
    "predicted_classes = np.argmax(combined_preds, axis=1)\n",
    "result = confusion_matrix(tf_labels, predicted_classes , normalize='pred')\n",
    "plt.figure(figsize=(20,20))\n",
    "labels = CLASSES\n",
    "sns.heatmap(result, annot=True, fmt='.2f', xticklabels=labels, yticklabels=labels)\n",
    "plt.ylabel('True label')\n",
    "plt.xlabel('Predicted label')\n",
    "plt.title('Confusion matrix on test data')\n",
    "plt.show()"
   ]
  }
 ],
 "metadata": {
  "kernelspec": {
   "display_name": "Python 3 (ipykernel)",
   "language": "python",
   "name": "python3"
  },
  "language_info": {
   "codemirror_mode": {
    "name": "ipython",
    "version": 3
   },
   "file_extension": ".py",
   "mimetype": "text/x-python",
   "name": "python",
   "nbconvert_exporter": "python",
   "pygments_lexer": "ipython3",
   "version": "3.9.19"
  }
 },
 "nbformat": 4,
 "nbformat_minor": 4
}
